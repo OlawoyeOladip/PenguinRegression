{
 "cells": [
  {
   "cell_type": "code",
   "execution_count": 1,
   "id": "b7851ff4",
   "metadata": {},
   "outputs": [],
   "source": [
    "import numpy as np\n",
    "import pandas as pd\n",
    "import matplotlib.pyplot as plt  \n",
    "import seaborn as sns \n",
    "from sklearn.linear_model import LinearRegression, Lasso, Ridge\n",
    "from sklearn.tree import DecisionTreeRegressor\n",
    "from sklearn.ensemble import RandomForestClassifier\n",
    "from sklearn.compose import ColumnTransformer\n",
    "from sklearn.preprocessing import StandardScaler\n",
    "from sklearn.model_selection import train_test_split, GridSearchCV\n",
    "from sklearn.metrics import mean_absolute_error, mean_squared_error, r2_score\n",
    "from sklearn.pipeline import Pipeline\n",
    "import os  \n",
    "from pathlib import Path"
   ]
  },
  {
   "cell_type": "code",
   "execution_count": 2,
   "id": "9e356216",
   "metadata": {},
   "outputs": [
    {
     "name": "stdout",
     "output_type": "stream",
     "text": [
      "  species     island  bill_length_mm  ...  flipper_length_mm  body_mass_g     sex\n",
      "0  Adelie  Torgersen            39.1  ...              181.0       3750.0    Male\n",
      "1  Adelie  Torgersen            39.5  ...              186.0       3800.0  Female\n",
      "2  Adelie  Torgersen            40.3  ...              195.0       3250.0  Female\n",
      "3  Adelie  Torgersen             NaN  ...                NaN          NaN     NaN\n",
      "4  Adelie  Torgersen            36.7  ...              193.0       3450.0  Female\n",
      "\n",
      "[5 rows x 7 columns]\n"
     ]
    }
   ],
   "source": [
    "df = sns.load_dataset(\"penguins\")\n",
    "print(df.head())"
   ]
  },
  {
   "cell_type": "code",
   "execution_count": 3,
   "id": "330b067f",
   "metadata": {},
   "outputs": [],
   "source": [
    "my_path = Path(\"data\")\n",
    "my_path.mkdir(parents=True, exist_ok=True)\n",
    "\n",
    "output_file = my_path / 'penguins.csv'\n",
    "df.to_csv(output_file, index=False)"
   ]
  },
  {
   "cell_type": "code",
   "execution_count": 95,
   "id": "3577832c",
   "metadata": {},
   "outputs": [
    {
     "name": "stdout",
     "output_type": "stream",
     "text": [
      "  species     island  bill_length_mm  ...  flipper_length_mm  body_mass_g     sex\n",
      "0  Adelie  Torgersen            39.1  ...              181.0       3750.0    Male\n",
      "1  Adelie  Torgersen            39.5  ...              186.0       3800.0  Female\n",
      "2  Adelie  Torgersen            40.3  ...              195.0       3250.0  Female\n",
      "3  Adelie  Torgersen             NaN  ...                NaN          NaN     NaN\n",
      "4  Adelie  Torgersen            36.7  ...              193.0       3450.0  Female\n",
      "\n",
      "[5 rows x 7 columns]\n"
     ]
    }
   ],
   "source": [
    "df = pd.read_csv(\"data/penguins.csv\")\n",
    "print(df.head())"
   ]
  },
  {
   "cell_type": "markdown",
   "id": "8bc0a65c",
   "metadata": {},
   "source": [
    "## Exploratory Data Analysis"
   ]
  },
  {
   "cell_type": "code",
   "execution_count": 96,
   "id": "f4eafae3",
   "metadata": {},
   "outputs": [
    {
     "name": "stdout",
     "output_type": "stream",
     "text": [
      "<class 'pandas.core.frame.DataFrame'>\n",
      "RangeIndex: 344 entries, 0 to 343\n",
      "Data columns (total 7 columns):\n",
      " #   Column             Non-Null Count  Dtype  \n",
      "---  ------             --------------  -----  \n",
      " 0   species            344 non-null    object \n",
      " 1   island             344 non-null    object \n",
      " 2   bill_length_mm     342 non-null    float64\n",
      " 3   bill_depth_mm      342 non-null    float64\n",
      " 4   flipper_length_mm  342 non-null    float64\n",
      " 5   body_mass_g        342 non-null    float64\n",
      " 6   sex                333 non-null    object \n",
      "dtypes: float64(4), object(3)\n",
      "memory usage: 18.9+ KB\n"
     ]
    }
   ],
   "source": [
    "df.info()"
   ]
  },
  {
   "cell_type": "code",
   "execution_count": 97,
   "id": "f9f66c9d",
   "metadata": {},
   "outputs": [
    {
     "name": "stdout",
     "output_type": "stream",
     "text": [
      "species               0\n",
      "island                0\n",
      "bill_length_mm        2\n",
      "bill_depth_mm         2\n",
      "flipper_length_mm     2\n",
      "body_mass_g           2\n",
      "sex                  11\n",
      "dtype: int64\n"
     ]
    }
   ],
   "source": [
    "print(df.isna().sum())"
   ]
  },
  {
   "cell_type": "code",
   "execution_count": 98,
   "id": "eb619776",
   "metadata": {},
   "outputs": [],
   "source": [
    "import importlib\n",
    "import utils\n",
    "importlib.reload(utils)\n",
    "from utils import take_care_of_nan"
   ]
  },
  {
   "cell_type": "code",
   "execution_count": 99,
   "id": "aac99ece",
   "metadata": {},
   "outputs": [
    {
     "name": "stdout",
     "output_type": "stream",
     "text": [
      "bill_length_mm        2\n",
      "bill_depth_mm         2\n",
      "flipper_length_mm     2\n",
      "body_mass_g           2\n",
      "sex                  11\n",
      "dtype: int64\n"
     ]
    }
   ],
   "source": [
    "print(df.isna().sum()[df.isna().sum() > 0])"
   ]
  },
  {
   "cell_type": "code",
   "execution_count": 100,
   "id": "d50b888e",
   "metadata": {},
   "outputs": [
    {
     "name": "stdout",
     "output_type": "stream",
     "text": [
      "['bill_length_mm', 'bill_depth_mm', 'flipper_length_mm', 'body_mass_g', 'sex']\n",
      "Columns with NaN: ['bill_length_mm', 'bill_depth_mm', 'flipper_length_mm', 'body_mass_g', 'sex']\n",
      "  species     island  bill_length_mm  ...  flipper_length_mm  body_mass_g     sex\n",
      "0  Adelie  Torgersen           39.10  ...              181.0       3750.0    Male\n",
      "1  Adelie  Torgersen           39.50  ...              186.0       3800.0  Female\n",
      "2  Adelie  Torgersen           40.30  ...              195.0       3250.0  Female\n",
      "3  Adelie  Torgersen           44.45  ...              197.0       4050.0    Male\n",
      "4  Adelie  Torgersen           36.70  ...              193.0       3450.0  Female\n",
      "\n",
      "[5 rows x 7 columns]\n"
     ]
    }
   ],
   "source": [
    "cols = df.columns[df.isna().any()].tolist()\n",
    "print(cols)\n",
    "print(\"Columns with NaN:\", cols)\n",
    "\n",
    "for col in cols:\n",
    "    df = take_care_of_nan(df, col)\n",
    "    \n",
    "print(df.head())"
   ]
  },
  {
   "cell_type": "code",
   "execution_count": 101,
   "id": "b8f402f9",
   "metadata": {},
   "outputs": [
    {
     "name": "stdout",
     "output_type": "stream",
     "text": [
      "<class 'pandas.core.frame.DataFrame'>\n",
      "RangeIndex: 344 entries, 0 to 343\n",
      "Data columns (total 7 columns):\n",
      " #   Column             Non-Null Count  Dtype  \n",
      "---  ------             --------------  -----  \n",
      " 0   species            344 non-null    object \n",
      " 1   island             344 non-null    object \n",
      " 2   bill_length_mm     344 non-null    float64\n",
      " 3   bill_depth_mm      344 non-null    float64\n",
      " 4   flipper_length_mm  344 non-null    float64\n",
      " 5   body_mass_g        344 non-null    float64\n",
      " 6   sex                344 non-null    object \n",
      "dtypes: float64(4), object(3)\n",
      "memory usage: 18.9+ KB\n"
     ]
    }
   ],
   "source": [
    "df.info()"
   ]
  },
  {
   "cell_type": "code",
   "execution_count": 102,
   "id": "0c50b082",
   "metadata": {},
   "outputs": [
    {
     "name": "stdout",
     "output_type": "stream",
     "text": [
      "sex\n",
      "Male      179\n",
      "Female    165\n",
      "Name: count, dtype: int64\n"
     ]
    }
   ],
   "source": [
    "print(df['sex'].value_counts())"
   ]
  },
  {
   "cell_type": "code",
   "execution_count": 103,
   "id": "249e0c88",
   "metadata": {},
   "outputs": [
    {
     "name": "stdout",
     "output_type": "stream",
     "text": [
      "[179 165]\n"
     ]
    }
   ],
   "source": [
    "print(df['sex'].value_counts().values)"
   ]
  },
  {
   "cell_type": "code",
   "execution_count": 104,
   "id": "1548219c",
   "metadata": {},
   "outputs": [],
   "source": [
    "colors = ['#99ff99','#ffcc99']"
   ]
  },
  {
   "cell_type": "code",
   "execution_count": 105,
   "id": "b818099c",
   "metadata": {},
   "outputs": [],
   "source": [
    "# Set the theme\n",
    "sns.set_theme(style=\"darkgrid\")"
   ]
  },
  {
   "cell_type": "code",
   "execution_count": 109,
   "id": "1b9eea04",
   "metadata": {},
   "outputs": [
    {
     "data": {
      "image/png": "[encoded data removed]",
      "text/plain": [
       "<Figure size 640x480 with 1 Axes>"
      ]
     },
     "metadata": {},
     "output_type": "display_data"
    }
   ],
   "source": [
    "fig, ax = plt.subplots()\n",
    "wedges, texts, autotexts = ax.pie(\n",
    "    df['sex'].value_counts().values,\n",
    "    labels=df['sex'].value_counts().index,\n",
    "    autopct='%1.1f%%',\n",
    "    startangle=90,\n",
    "    colors=colors,\n",
    "    wedgeprops=dict(width=0.4)  # 👈 controls the hole size\n",
    ")\n",
    "\n",
    "# Equal aspect ratio ensures the pie is circular\n",
    "ax.axis('equal')  \n",
    "\n",
    "plt.setp(autotexts, size=10, weight=\"bold\")\n",
    "plt.title(\"Donut Chart for Sex\")\n",
    "\n",
    "images = Path(\"images\")\n",
    "images.mkdir(parents=True, exist_ok=True)\n",
    "donut_path = images / 'donut_chart.png'\n",
    "\n",
    "# Save as PNG\n",
    "plt.savefig(donut_path, dpi=300, bbox_inches=\"tight\")\n",
    "\n",
    "plt.show()"
   ]
  },
  {
   "cell_type": "code",
   "execution_count": 108,
   "id": "98d463bf",
   "metadata": {},
   "outputs": [
    {
     "name": "stdout",
     "output_type": "stream",
     "text": [
      "species\n",
      "Adelie       152\n",
      "Gentoo       124\n",
      "Chinstrap     68\n",
      "Name: count, dtype: int64\n"
     ]
    }
   ],
   "source": [
    "print(df['species'].value_counts())"
   ]
  },
  {
   "cell_type": "code",
   "execution_count": 110,
   "id": "8db73388",
   "metadata": {},
   "outputs": [],
   "source": [
    "colors = ['#ff9999','#66b3ff','#99ff99']"
   ]
  },
  {
   "cell_type": "code",
   "execution_count": 111,
   "id": "30908b5f",
   "metadata": {},
   "outputs": [
    {
     "data": {
      "image/png": "[encoded data removed]",
      "text/plain": [
       "<Figure size 640x480 with 1 Axes>"
      ]
     },
     "metadata": {},
     "output_type": "display_data"
    }
   ],
   "source": [
    "fig, ax = plt.subplots()\n",
    "wedges, texts, autotexts = ax.pie(\n",
    "    df['species'].value_counts().values,\n",
    "    labels=df['species'].value_counts().index,\n",
    "    autopct='%1.1f%%',\n",
    "    startangle=90,\n",
    "    colors=colors,\n",
    "    wedgeprops=dict(width=0.4)  # 👈 controls the hole size\n",
    ")\n",
    "\n",
    "# Equal aspect ratio ensures the pie is circular\n",
    "ax.axis('equal')  \n",
    "\n",
    "plt.setp(autotexts, size=10, weight=\"bold\")\n",
    "plt.title(\"Donut Chart for Species\")\n",
    "\n",
    "donut_path = images / 'donut_chart2.png'\n",
    "\n",
    "# Save as PNG\n",
    "plt.savefig(donut_path, dpi=300, bbox_inches=\"tight\")\n",
    "\n",
    "plt.show()"
   ]
  },
  {
   "cell_type": "code",
   "execution_count": null,
   "id": "008c4789",
   "metadata": {},
   "outputs": [],
   "source": []
  }
 ],
 "metadata": {
  "kernelspec": {
   "display_name": "base",
   "language": "python",
   "name": "python3"
  },
  "language_info": {
   "codemirror_mode": {
    "name": "ipython",
    "version": 3
   },
   "file_extension": ".py",
   "mimetype": "text/x-python",
   "name": "python",
   "nbconvert_exporter": "python",
   "pygments_lexer": "ipython3",
   "version": "3.13.5"
  }
 },
 "nbformat": 4,
 "nbformat_minor": 5
}
